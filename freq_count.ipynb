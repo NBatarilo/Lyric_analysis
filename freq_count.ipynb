{
 "cells": [
  {
   "cell_type": "code",
   "execution_count": 1,
   "metadata": {},
   "outputs": [],
   "source": [
    "import json\n",
    "import os\n",
    "import numpy as np\n",
    "import pandas as pd\n",
    "from os import path\n",
    "from PIL import Image\n",
    "from wordcloud import WordCloud, STOPWORDS, ImageColorGenerator\n",
    "\n",
    "import matplotlib.pyplot as plt\n",
    "%matplotlib inline"
   ]
  },
  {
   "cell_type": "code",
   "execution_count": 2,
   "metadata": {},
   "outputs": [],
   "source": [
    "data_list = []\n",
    "\n",
    "path = \"/Users/nickbatarilo/Desktop/lyric_anal/lyrics/json\"\n",
    "for filename in os.listdir(path):\n",
    "    if(os.path.isfile(\"/Users/nickbatarilo/Desktop/lyric_anal/lyrics/json/\" + filename)):\n",
    "        with open(\"/Users/nickbatarilo/Desktop/lyric_anal/lyrics/json/\" + filename) as json_file:\n",
    "            if(filename.endswith(\".json\")):\n",
    "                data = json.load(json_file)\n",
    "                title = data['songs'][0]['title']\n",
    "                album = data['songs'][0]['album']\n",
    "                year = data['songs'][0]['year']\n",
    "                lyrics = data['songs'][0]['lyrics']\n",
    "                data_list.append([title,album,year,lyrics])\n",
    "                \n",
    "columns = ['title', 'album', 'year', 'lyrics']\n",
    "df = pd.DataFrame(data_list, columns = columns)"
   ]
  },
  {
   "cell_type": "code",
   "execution_count": 3,
   "metadata": {},
   "outputs": [
    {
     "data": {
      "text/html": [
       "<div>\n",
       "<style scoped>\n",
       "    .dataframe tbody tr th:only-of-type {\n",
       "        vertical-align: middle;\n",
       "    }\n",
       "\n",
       "    .dataframe tbody tr th {\n",
       "        vertical-align: top;\n",
       "    }\n",
       "\n",
       "    .dataframe thead th {\n",
       "        text-align: right;\n",
       "    }\n",
       "</style>\n",
       "<table border=\"1\" class=\"dataframe\">\n",
       "  <thead>\n",
       "    <tr style=\"text-align: right;\">\n",
       "      <th></th>\n",
       "      <th>title</th>\n",
       "      <th>album</th>\n",
       "      <th>year</th>\n",
       "      <th>lyrics</th>\n",
       "    </tr>\n",
       "  </thead>\n",
       "  <tbody>\n",
       "    <tr>\n",
       "      <th>0</th>\n",
       "      <td>Buried Alive (Interlude)</td>\n",
       "      <td>Take Care</td>\n",
       "      <td>2011-11-15</td>\n",
       "      <td>[Intro: Kendrick Lamar]\\nIf you was in a pine ...</td>\n",
       "    </tr>\n",
       "    <tr>\n",
       "      <th>1</th>\n",
       "      <td>Good Ones Go (Interlude)</td>\n",
       "      <td>Take Care</td>\n",
       "      <td>2011-11-15</td>\n",
       "      <td>[Intro]\\nOh yeah\\nOh yeah, oh yeah, oh\\nOh yea...</td>\n",
       "    </tr>\n",
       "    <tr>\n",
       "      <th>2</th>\n",
       "      <td>Separate LivesVer</td>\n",
       "      <td>None</td>\n",
       "      <td>None</td>\n",
       "      <td>Verse:\\nYeah yeah uh\\nI'm feelin' you, gaurant...</td>\n",
       "    </tr>\n",
       "    <tr>\n",
       "      <th>3</th>\n",
       "      <td>Keep the Family Close</td>\n",
       "      <td>Views</td>\n",
       "      <td>2016-04-29</td>\n",
       "      <td>[Intro]\\nIt's a little chilly out there\\nHow y...</td>\n",
       "    </tr>\n",
       "    <tr>\n",
       "      <th>4</th>\n",
       "      <td>Take You Down (Freestyle)</td>\n",
       "      <td>None</td>\n",
       "      <td>None</td>\n",
       "      <td>(Intro)\\nDrake Talking/ad-libing:\\nIts Young M...</td>\n",
       "    </tr>\n",
       "  </tbody>\n",
       "</table>\n",
       "</div>"
      ],
      "text/plain": [
       "                       title      album        year  \\\n",
       "0   Buried Alive (Interlude)  Take Care  2011-11-15   \n",
       "1   Good Ones Go (Interlude)  Take Care  2011-11-15   \n",
       "2          Separate LivesVer       None        None   \n",
       "3      Keep the Family Close      Views  2016-04-29   \n",
       "4  Take You Down (Freestyle)       None        None   \n",
       "\n",
       "                                              lyrics  \n",
       "0  [Intro: Kendrick Lamar]\\nIf you was in a pine ...  \n",
       "1  [Intro]\\nOh yeah\\nOh yeah, oh yeah, oh\\nOh yea...  \n",
       "2  Verse:\\nYeah yeah uh\\nI'm feelin' you, gaurant...  \n",
       "3  [Intro]\\nIt's a little chilly out there\\nHow y...  \n",
       "4  (Intro)\\nDrake Talking/ad-libing:\\nIts Young M...  "
      ]
     },
     "execution_count": 3,
     "metadata": {},
     "output_type": "execute_result"
    }
   ],
   "source": [
    "df.head()"
   ]
  },
  {
   "cell_type": "code",
   "execution_count": 4,
   "metadata": {},
   "outputs": [
    {
     "name": "stdout",
     "output_type": "stream",
     "text": [
      "There are 1086761 words in the combination of all lyrics.\n"
     ]
    }
   ],
   "source": [
    "text = \" \".join(lyrics for lyrics in df.lyrics)\n",
    "print (\"There are {} words in the combination of all lyrics.\".format(len(text)))"
   ]
  },
  {
   "cell_type": "code",
   "execution_count": 7,
   "metadata": {},
   "outputs": [
    {
     "data": {
      "text/plain": [
       "[('I', 8542),\n",
       " ('the', 6345),\n",
       " ('you', 5842),\n",
       " ('to', 4222),\n",
       " ('a', 3743),\n",
       " ('it', 2820),\n",
       " ('me', 2791),\n",
       " (\"I'm\", 2735),\n",
       " ('and', 2705),\n",
       " ('my', 2556),\n",
       " ('that', 2380),\n",
       " ('in', 2179),\n",
       " ('on', 1885),\n",
       " ('And', 1728),\n",
       " ('like', 1687),\n",
       " ('for', 1675),\n",
       " ('know', 1586),\n",
       " ('just', 1420),\n",
       " ('of', 1377),\n",
       " ('with', 1360),\n",
       " ('is', 1326),\n",
       " ('You', 1229),\n",
       " ('all', 1205),\n",
       " ('your', 1200),\n",
       " ('they', 1142),\n",
       " ('got', 1137),\n",
       " ('be', 1137),\n",
       " (\"don't\", 1092),\n",
       " ('get', 1068),\n",
       " ('we', 1055),\n",
       " ('this', 1025),\n",
       " ('up', 1021),\n",
       " ('do', 846),\n",
       " ('when', 798),\n",
       " ('what', 770),\n",
       " (\"it's\", 747),\n",
       " ('[Verse', 722),\n",
       " ('shit', 695),\n",
       " ('out', 690),\n",
       " ('no', 669),\n",
       " ('so', 664),\n",
       " ('but', 648),\n",
       " ('But', 646),\n",
       " (\"ain't\", 621),\n",
       " ('at', 612),\n",
       " ('can', 599),\n",
       " ('Drake]', 588),\n",
       " ('was', 586),\n",
       " ('from', 584),\n",
       " ('if', 575)]"
      ]
     },
     "execution_count": 7,
     "metadata": {},
     "output_type": "execute_result"
    }
   ],
   "source": [
    "from collections import Counter\n",
    "wordlist = text.split()\n",
    "counts = Counter(wordlist)\n",
    "counts.most_common(50)"
   ]
  },
  {
   "cell_type": "code",
   "execution_count": 6,
   "metadata": {},
   "outputs": [],
   "source": [
    "## Things to do\n",
    "# Graph the top X words see what it looks like\n",
    "# Take out words with 3 characters or fewer, maybe fewer, I'll tweek this\n",
    "# Do a clean version of overall disc. Should be easy, just add new blocks. "
   ]
  },
  {
   "cell_type": "code",
   "execution_count": null,
   "metadata": {},
   "outputs": [],
   "source": []
  }
 ],
 "metadata": {
  "kernelspec": {
   "display_name": "Python 3",
   "language": "python",
   "name": "python3"
  },
  "language_info": {
   "codemirror_mode": {
    "name": "ipython",
    "version": 3
   },
   "file_extension": ".py",
   "mimetype": "text/x-python",
   "name": "python",
   "nbconvert_exporter": "python",
   "pygments_lexer": "ipython3",
   "version": "3.6.7"
  }
 },
 "nbformat": 4,
 "nbformat_minor": 2
}
